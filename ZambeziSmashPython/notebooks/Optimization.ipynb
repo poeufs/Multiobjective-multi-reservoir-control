{
 "cells": [
  {
   "cell_type": "markdown",
   "metadata": {
    "collapsed": true,
    "pycharm": {
     "name": "#%% md\n"
    }
   },
   "source": [
    "# Optimization notebook\n",
    "This notebook is to run a multi-objective optimization with the Zambezi model. Two alternatives will be given to that end. First implementation is with the Platypus library which has a fairly simple interface. The second implementation is the EMA Workbench which additionally offers parallelization functionality"
   ]
  },
  {
   "cell_type": "code",
   "execution_count": 1,
   "metadata": {},
   "outputs": [
    {
     "name": "stdout",
     "output_type": "stream",
     "text": [
      "Catchment class\n",
      "damla\n"
     ]
    }
   ],
   "source": [
    "import pandas as pd\n",
    "import numpy as np\n",
    "import os\n",
    "os.chdir('../src')\n",
    "from model_zambezi import ModelZambezi\n",
    "\n",
    "from platypus import NSGAII, Problem, Real"
   ]
  },
  {
   "cell_type": "code",
   "execution_count": 2,
   "metadata": {},
   "outputs": [],
   "source": [
    "ZambeziProblem = ModelZambezi()\n",
    "\n",
    "\n"
   ]
  },
  {
   "cell_type": "code",
   "execution_count": 3,
   "metadata": {},
   "outputs": [],
   "source": [
    "import platypus"
   ]
  },
  {
   "cell_type": "markdown",
   "metadata": {},
   "source": [
    "## Platypus (NSGAII)"
   ]
  },
  {
   "cell_type": "code",
   "execution_count": 4,
   "metadata": {},
   "outputs": [
    {
     "ename": "ValueError",
     "evalue": "The truth value of an array with more than one element is ambiguous. Use a.any() or a.all()",
     "output_type": "error",
     "traceback": [
      "\u001B[1;31m---------------------------------------------------------------------------\u001B[0m",
      "\u001B[1;31mValueError\u001B[0m                                Traceback (most recent call last)",
      "Cell \u001B[1;32mIn[4], line 6\u001B[0m\n\u001B[0;32m      3\u001B[0m problem\u001B[39m.\u001B[39mfunction \u001B[39m=\u001B[39m ZambeziProblem\u001B[39m.\u001B[39mevaluate\n\u001B[0;32m      5\u001B[0m algorithm \u001B[39m=\u001B[39m NSGAII(problem\u001B[39m=\u001B[39mproblem, population_size\u001B[39m=\u001B[39m\u001B[39m20\u001B[39m)\n\u001B[1;32m----> 6\u001B[0m algorithm\u001B[39m.\u001B[39;49mrun(\u001B[39m100\u001B[39;49m)\n",
      "File \u001B[1;32mc:\\Users\\dakoluk\\Documents\\Multiobjective-multi-reservoir-control\\.venv\\lib\\site-packages\\platypus\\core.py:407\u001B[0m, in \u001B[0;36mAlgorithm.run\u001B[1;34m(self, condition, callback)\u001B[0m\n\u001B[0;32m    404\u001B[0m LOGGER\u001B[39m.\u001B[39mlog(logging\u001B[39m.\u001B[39mINFO, \u001B[39m\"\u001B[39m\u001B[39m%s\u001B[39;00m\u001B[39m starting\u001B[39m\u001B[39m\"\u001B[39m, \u001B[39mtype\u001B[39m(\u001B[39mself\u001B[39m)\u001B[39m.\u001B[39m\u001B[39m__name__\u001B[39m)\n\u001B[0;32m    406\u001B[0m \u001B[39mwhile\u001B[39;00m \u001B[39mnot\u001B[39;00m condition(\u001B[39mself\u001B[39m):\n\u001B[1;32m--> 407\u001B[0m     \u001B[39mself\u001B[39;49m\u001B[39m.\u001B[39;49mstep()\n\u001B[0;32m    409\u001B[0m     \u001B[39mif\u001B[39;00m \u001B[39mself\u001B[39m\u001B[39m.\u001B[39mlog_frequency \u001B[39mis\u001B[39;00m \u001B[39mnot\u001B[39;00m \u001B[39mNone\u001B[39;00m \u001B[39mand\u001B[39;00m \u001B[39mself\u001B[39m\u001B[39m.\u001B[39mnfe \u001B[39m>\u001B[39m\u001B[39m=\u001B[39m last_log \u001B[39m+\u001B[39m \u001B[39mself\u001B[39m\u001B[39m.\u001B[39mlog_frequency:\n\u001B[0;32m    410\u001B[0m         LOGGER\u001B[39m.\u001B[39mlog(logging\u001B[39m.\u001B[39mINFO,\n\u001B[0;32m    411\u001B[0m                    \u001B[39m\"\u001B[39m\u001B[39m%s\u001B[39;00m\u001B[39m running; NFE Complete: \u001B[39m\u001B[39m%d\u001B[39;00m\u001B[39m, Elapsed Time: \u001B[39m\u001B[39m%s\u001B[39;00m\u001B[39m\"\u001B[39m,\n\u001B[0;32m    412\u001B[0m                    \u001B[39mtype\u001B[39m(\u001B[39mself\u001B[39m)\u001B[39m.\u001B[39m\u001B[39m__name__\u001B[39m,\n\u001B[0;32m    413\u001B[0m                    \u001B[39mself\u001B[39m\u001B[39m.\u001B[39mnfe,\n\u001B[0;32m    414\u001B[0m                    datetime\u001B[39m.\u001B[39mtimedelta(seconds\u001B[39m=\u001B[39mtime\u001B[39m.\u001B[39mtime()\u001B[39m-\u001B[39mstart_time))\n",
      "File \u001B[1;32mc:\\Users\\dakoluk\\Documents\\Multiobjective-multi-reservoir-control\\.venv\\lib\\site-packages\\platypus\\algorithms.py:180\u001B[0m, in \u001B[0;36mNSGAII.step\u001B[1;34m(self)\u001B[0m\n\u001B[0;32m    178\u001B[0m \u001B[39mdef\u001B[39;00m \u001B[39mstep\u001B[39m(\u001B[39mself\u001B[39m):\n\u001B[0;32m    179\u001B[0m     \u001B[39mif\u001B[39;00m \u001B[39mself\u001B[39m\u001B[39m.\u001B[39mnfe \u001B[39m==\u001B[39m \u001B[39m0\u001B[39m:\n\u001B[1;32m--> 180\u001B[0m         \u001B[39mself\u001B[39;49m\u001B[39m.\u001B[39;49minitialize()\n\u001B[0;32m    181\u001B[0m     \u001B[39melse\u001B[39;00m:\n\u001B[0;32m    182\u001B[0m         \u001B[39mself\u001B[39m\u001B[39m.\u001B[39miterate()\n",
      "File \u001B[1;32mc:\\Users\\dakoluk\\Documents\\Multiobjective-multi-reservoir-control\\.venv\\lib\\site-packages\\platypus\\algorithms.py:190\u001B[0m, in \u001B[0;36mNSGAII.initialize\u001B[1;34m(self)\u001B[0m\n\u001B[0;32m    189\u001B[0m \u001B[39mdef\u001B[39;00m \u001B[39minitialize\u001B[39m(\u001B[39mself\u001B[39m):\n\u001B[1;32m--> 190\u001B[0m     \u001B[39msuper\u001B[39;49m()\u001B[39m.\u001B[39;49minitialize()\n\u001B[0;32m    192\u001B[0m     \u001B[39mif\u001B[39;00m \u001B[39mself\u001B[39m\u001B[39m.\u001B[39marchive \u001B[39mis\u001B[39;00m \u001B[39mnot\u001B[39;00m \u001B[39mNone\u001B[39;00m:\n\u001B[0;32m    193\u001B[0m         \u001B[39mself\u001B[39m\u001B[39m.\u001B[39marchive \u001B[39m+\u001B[39m\u001B[39m=\u001B[39m \u001B[39mself\u001B[39m\u001B[39m.\u001B[39mpopulation\n",
      "File \u001B[1;32mc:\\Users\\dakoluk\\Documents\\Multiobjective-multi-reservoir-control\\.venv\\lib\\site-packages\\platypus\\algorithms.py:71\u001B[0m, in \u001B[0;36mAbstractGeneticAlgorithm.initialize\u001B[1;34m(self)\u001B[0m\n\u001B[0;32m     69\u001B[0m \u001B[39mdef\u001B[39;00m \u001B[39minitialize\u001B[39m(\u001B[39mself\u001B[39m):\n\u001B[0;32m     70\u001B[0m     \u001B[39mself\u001B[39m\u001B[39m.\u001B[39mpopulation \u001B[39m=\u001B[39m [\u001B[39mself\u001B[39m\u001B[39m.\u001B[39mgenerator\u001B[39m.\u001B[39mgenerate(\u001B[39mself\u001B[39m\u001B[39m.\u001B[39mproblem) \u001B[39mfor\u001B[39;00m _ \u001B[39min\u001B[39;00m \u001B[39mrange\u001B[39m(\u001B[39mself\u001B[39m\u001B[39m.\u001B[39mpopulation_size)]\n\u001B[1;32m---> 71\u001B[0m     \u001B[39mself\u001B[39;49m\u001B[39m.\u001B[39;49mevaluate_all(\u001B[39mself\u001B[39;49m\u001B[39m.\u001B[39;49mpopulation)\n",
      "File \u001B[1;32mc:\\Users\\dakoluk\\Documents\\Multiobjective-multi-reservoir-control\\.venv\\lib\\site-packages\\platypus\\core.py:380\u001B[0m, in \u001B[0;36mAlgorithm.evaluate_all\u001B[1;34m(self, solutions)\u001B[0m\n\u001B[0;32m    377\u001B[0m unevaluated \u001B[39m=\u001B[39m [s \u001B[39mfor\u001B[39;00m s \u001B[39min\u001B[39;00m solutions \u001B[39mif\u001B[39;00m \u001B[39mnot\u001B[39;00m s\u001B[39m.\u001B[39mevaluated]\n\u001B[0;32m    379\u001B[0m jobs \u001B[39m=\u001B[39m [_EvaluateJob(s) \u001B[39mfor\u001B[39;00m s \u001B[39min\u001B[39;00m unevaluated]\n\u001B[1;32m--> 380\u001B[0m results \u001B[39m=\u001B[39m \u001B[39mself\u001B[39;49m\u001B[39m.\u001B[39;49mevaluator\u001B[39m.\u001B[39;49mevaluate_all(jobs)\n\u001B[0;32m    382\u001B[0m \u001B[39m# if needed, update the original solution with the results\u001B[39;00m\n\u001B[0;32m    383\u001B[0m \u001B[39mfor\u001B[39;00m i, result \u001B[39min\u001B[39;00m \u001B[39menumerate\u001B[39m(results):\n",
      "File \u001B[1;32mc:\\Users\\dakoluk\\Documents\\Multiobjective-multi-reservoir-control\\.venv\\lib\\site-packages\\platypus\\evaluator.py:87\u001B[0m, in \u001B[0;36mMapEvaluator.evaluate_all\u001B[1;34m(self, jobs, **kwargs)\u001B[0m\n\u001B[0;32m     84\u001B[0m log_frequency \u001B[39m=\u001B[39m kwargs\u001B[39m.\u001B[39mget(\u001B[39m\"\u001B[39m\u001B[39mlog_frequency\u001B[39m\u001B[39m\"\u001B[39m, \u001B[39mNone\u001B[39;00m)\n\u001B[0;32m     86\u001B[0m \u001B[39mif\u001B[39;00m log_frequency \u001B[39mis\u001B[39;00m \u001B[39mNone\u001B[39;00m:\n\u001B[1;32m---> 87\u001B[0m     \u001B[39mreturn\u001B[39;00m \u001B[39mlist\u001B[39;49m(\u001B[39mself\u001B[39;49m\u001B[39m.\u001B[39;49mmap_func(run_job, jobs))\n\u001B[0;32m     88\u001B[0m \u001B[39melse\u001B[39;00m:\n\u001B[0;32m     89\u001B[0m     result \u001B[39m=\u001B[39m []\n",
      "File \u001B[1;32mc:\\Users\\dakoluk\\Documents\\Multiobjective-multi-reservoir-control\\.venv\\lib\\site-packages\\platypus\\evaluator.py:54\u001B[0m, in \u001B[0;36mrun_job\u001B[1;34m(job)\u001B[0m\n\u001B[0;32m     53\u001B[0m \u001B[39mdef\u001B[39;00m \u001B[39mrun_job\u001B[39m(job):\n\u001B[1;32m---> 54\u001B[0m     job\u001B[39m.\u001B[39;49mrun()\n\u001B[0;32m     55\u001B[0m     \u001B[39mreturn\u001B[39;00m job\n",
      "File \u001B[1;32mc:\\Users\\dakoluk\\Documents\\Multiobjective-multi-reservoir-control\\.venv\\lib\\site-packages\\platypus\\core.py:347\u001B[0m, in \u001B[0;36m_EvaluateJob.run\u001B[1;34m(self)\u001B[0m\n\u001B[0;32m    346\u001B[0m \u001B[39mdef\u001B[39;00m \u001B[39mrun\u001B[39m(\u001B[39mself\u001B[39m):\n\u001B[1;32m--> 347\u001B[0m     \u001B[39mself\u001B[39;49m\u001B[39m.\u001B[39;49msolution\u001B[39m.\u001B[39;49mevaluate()\n",
      "File \u001B[1;32mc:\\Users\\dakoluk\\Documents\\Multiobjective-multi-reservoir-control\\.venv\\lib\\site-packages\\platypus\\core.py:520\u001B[0m, in \u001B[0;36mSolution.evaluate\u001B[1;34m(self)\u001B[0m\n\u001B[0;32m    518\u001B[0m \u001B[39mdef\u001B[39;00m \u001B[39mevaluate\u001B[39m(\u001B[39mself\u001B[39m):\n\u001B[0;32m    519\u001B[0m \u001B[39m    \u001B[39m\u001B[39m\"\"\"Evaluates this solution.\"\"\"\u001B[39;00m\n\u001B[1;32m--> 520\u001B[0m     \u001B[39mself\u001B[39;49m\u001B[39m.\u001B[39;49mproblem(\u001B[39mself\u001B[39;49m)\n",
      "File \u001B[1;32mc:\\Users\\dakoluk\\Documents\\Multiobjective-multi-reservoir-control\\.venv\\lib\\site-packages\\platypus\\core.py:164\u001B[0m, in \u001B[0;36mProblem.__call__\u001B[1;34m(self, solution)\u001B[0m\n\u001B[0;32m    161\u001B[0m problem \u001B[39m=\u001B[39m solution\u001B[39m.\u001B[39mproblem\n\u001B[0;32m    162\u001B[0m solution\u001B[39m.\u001B[39mvariables[:] \u001B[39m=\u001B[39m [problem\u001B[39m.\u001B[39mtypes[i]\u001B[39m.\u001B[39mdecode(solution\u001B[39m.\u001B[39mvariables[i]) \u001B[39mfor\u001B[39;00m i \u001B[39min\u001B[39;00m \u001B[39mrange\u001B[39m(problem\u001B[39m.\u001B[39mnvars)]\n\u001B[1;32m--> 164\u001B[0m \u001B[39mself\u001B[39;49m\u001B[39m.\u001B[39;49mevaluate(solution)\n\u001B[0;32m    166\u001B[0m solution\u001B[39m.\u001B[39mvariables[:] \u001B[39m=\u001B[39m [problem\u001B[39m.\u001B[39mtypes[i]\u001B[39m.\u001B[39mencode(solution\u001B[39m.\u001B[39mvariables[i]) \u001B[39mfor\u001B[39;00m i \u001B[39min\u001B[39;00m \u001B[39mrange\u001B[39m(problem\u001B[39m.\u001B[39mnvars)]\n\u001B[0;32m    167\u001B[0m solution\u001B[39m.\u001B[39mconstraint_violation \u001B[39m=\u001B[39m \u001B[39msum\u001B[39m([\u001B[39mabs\u001B[39m(f(x)) \u001B[39mfor\u001B[39;00m (f, x) \u001B[39min\u001B[39;00m \u001B[39mzip\u001B[39m(solution\u001B[39m.\u001B[39mproblem\u001B[39m.\u001B[39mconstraints, solution\u001B[39m.\u001B[39mconstraints)])\n",
      "File \u001B[1;32mc:\\Users\\dakoluk\\Documents\\Multiobjective-multi-reservoir-control\\.venv\\lib\\site-packages\\platypus\\core.py:190\u001B[0m, in \u001B[0;36mProblem.evaluate\u001B[1;34m(self, solution)\u001B[0m\n\u001B[0;32m    188\u001B[0m     (objs, constrs) \u001B[39m=\u001B[39m \u001B[39mself\u001B[39m\u001B[39m.\u001B[39mfunction(solution\u001B[39m.\u001B[39mvariables)\n\u001B[0;32m    189\u001B[0m \u001B[39melse\u001B[39;00m:\n\u001B[1;32m--> 190\u001B[0m     objs \u001B[39m=\u001B[39m \u001B[39mself\u001B[39;49m\u001B[39m.\u001B[39;49mfunction(solution\u001B[39m.\u001B[39;49mvariables)\n\u001B[0;32m    191\u001B[0m     constrs \u001B[39m=\u001B[39m []\n\u001B[0;32m    193\u001B[0m \u001B[39mif\u001B[39;00m \u001B[39mnot\u001B[39;00m \u001B[39mhasattr\u001B[39m(objs, \u001B[39m\"\u001B[39m\u001B[39m__getitem__\u001B[39m\u001B[39m\"\u001B[39m):\n",
      "File \u001B[1;32mc:\\Users\\dakoluk\\Documents\\Multiobjective-multi-reservoir-control\\ZambeziSmashPython\\src\\model_zambezi.py:141\u001B[0m, in \u001B[0;36mModelZambezi.evaluate\u001B[1;34m(self, parameter_vector)\u001B[0m\n\u001B[0;32m    125\u001B[0m \u001B[39m\u001B[39m\u001B[39m\"\"\" Evaluate the KPI values based on the given input\u001B[39;00m\n\u001B[0;32m    126\u001B[0m \u001B[39mdata and policy parameter configuration.\u001B[39;00m\n\u001B[0;32m    127\u001B[0m \n\u001B[1;32m   (...)\u001B[0m\n\u001B[0;32m    137\u001B[0m \u001B[39mList of calculated objective values\u001B[39;00m\n\u001B[0;32m    138\u001B[0m \u001B[39m\"\"\"\u001B[39;00m\n\u001B[0;32m    140\u001B[0m \u001B[39mself\u001B[39m\u001B[39m.\u001B[39moverarching_policy\u001B[39m.\u001B[39massign_free_parameters(parameter_vector)\n\u001B[1;32m--> 141\u001B[0m objective_vector \u001B[39m=\u001B[39m \u001B[39mself\u001B[39;49m\u001B[39m.\u001B[39;49msimulate()\n\u001B[0;32m    143\u001B[0m \u001B[39mreturn\u001B[39;00m \u001B[39mNone\u001B[39;00m\n",
      "File \u001B[1;32mc:\\Users\\dakoluk\\Documents\\Multiobjective-multi-reservoir-control\\ZambeziSmashPython\\src\\model_zambezi.py:197\u001B[0m, in \u001B[0;36mModelZambezi.simulate\u001B[1;34m(self)\u001B[0m\n\u001B[0;32m    192\u001B[0m \u001B[39melse\u001B[39;00m:\n\u001B[0;32m    193\u001B[0m     itt_release \u001B[39m=\u001B[39m \u001B[39mself\u001B[39m\u001B[39m.\u001B[39mreservoirs[\u001B[39m\"\u001B[39m\u001B[39mitezhitezhi\u001B[39m\u001B[39m\"\u001B[39m]\u001B[39m.\u001B[39mrelease_vector[\u001B[39m-\u001B[39m\u001B[39m3\u001B[39m]\n\u001B[0;32m    195\u001B[0m \u001B[39mself\u001B[39m\u001B[39m.\u001B[39mirr_districts[\u001B[39m\"\u001B[39m\u001B[39m4\u001B[39m\u001B[39m\"\u001B[39m]\u001B[39m.\u001B[39mreceived_flow \u001B[39m=\u001B[39m np\u001B[39m.\u001B[39mappend(\n\u001B[0;32m    196\u001B[0m     \u001B[39mself\u001B[39m\u001B[39m.\u001B[39mirr_districts[\u001B[39m\"\u001B[39m\u001B[39m4\u001B[39m\u001B[39m\"\u001B[39m]\u001B[39m.\u001B[39mreceived_flow,\n\u001B[1;32m--> 197\u001B[0m     \u001B[39mmin\u001B[39;49m(\u001B[39mself\u001B[39;49m\u001B[39m.\u001B[39;49mcatchments[\u001B[39m\"\u001B[39;49m\u001B[39mKafueFlats\u001B[39;49m\u001B[39m\"\u001B[39;49m]\u001B[39m.\u001B[39;49minflow[t] \u001B[39m+\u001B[39;49m itt_release,\n\u001B[0;32m    198\u001B[0m     \u001B[39mself\u001B[39;49m\u001B[39m.\u001B[39;49mirr_districts[\u001B[39m\"\u001B[39;49m\u001B[39m4\u001B[39;49m\u001B[39m\"\u001B[39;49m]\u001B[39m.\u001B[39;49mdemand[moy\u001B[39m-\u001B[39;49m\u001B[39m1\u001B[39;49m]))\n\u001B[0;32m    200\u001B[0m \u001B[39m# Integration of flows to storages\u001B[39;00m\n\u001B[0;32m    201\u001B[0m \u001B[39mself\u001B[39m\u001B[39m.\u001B[39mreservoirs[\u001B[39m\"\u001B[39m\u001B[39mkafuegorgeupper\u001B[39m\u001B[39m\"\u001B[39m]\u001B[39m.\u001B[39mintegration(\n\u001B[0;32m    202\u001B[0m     nu_of_days, decision_dict[\u001B[39m\"\u001B[39m\u001B[39mkafuegorgeupper\u001B[39m\u001B[39m\"\u001B[39m],\n\u001B[0;32m    203\u001B[0m     \u001B[39mself\u001B[39m\u001B[39m.\u001B[39mcatchments[\u001B[39m\"\u001B[39m\u001B[39mKafueFlats\u001B[39m\u001B[39m\"\u001B[39m]\u001B[39m.\u001B[39minflow[t]\u001B[39m.\u001B[39many() \u001B[39m+\u001B[39m itt_release \u001B[39m-\u001B[39m \\\n\u001B[0;32m    204\u001B[0m     \u001B[39mself\u001B[39m\u001B[39m.\u001B[39mirr_districts[\u001B[39m\"\u001B[39m\u001B[39m4\u001B[39m\u001B[39m\"\u001B[39m]\u001B[39m.\u001B[39mreceived_flow[\u001B[39m-\u001B[39m\u001B[39m1\u001B[39m]\u001B[39m.\u001B[39many(),moy)\n",
      "\u001B[1;31mValueError\u001B[0m: The truth value of an array with more than one element is ambiguous. Use a.any() or a.all()"
     ]
    }
   ],
   "source": [
    "problem = Problem(230,3)\n",
    "problem.types[:] = Real(0, 1)\n",
    "problem.function = ZambeziProblem.evaluate\n",
    "\n",
    "algorithm = NSGAII(problem=problem, population_size=20)\n",
    "algorithm.run(100)"
   ]
  },
  {
   "cell_type": "code",
   "execution_count": null,
   "metadata": {},
   "outputs": [],
   "source": [
    "objectives_outcome = dict()\n",
    "for i, column_name in enumerate(['Hydropower','Environment','Irrigation']):\n",
    "    objectives_outcome[column_name] = [s.objectives[i] for s in algorithm.result]\n",
    "\n",
    "objectives_df = pd.DataFrame(objectives_outcome)\n",
    "print(objectives_df)\n"
   ]
  },
  {
   "cell_type": "code",
   "execution_count": null,
   "metadata": {},
   "outputs": [],
   "source": [
    "from various_plots import parallel_plots\n",
    "parallel_plots(objectives_df)"
   ]
  },
  {
   "cell_type": "markdown",
   "metadata": {},
   "source": [
    "## EMA Workbench"
   ]
  },
  {
   "cell_type": "code",
   "execution_count": null,
   "metadata": {},
   "outputs": [],
   "source": [
    "def model_wrapper(**kwargs):\n",
    "    input = [kwargs['v' + str(i)] for i in range(len(kwargs))]\n",
    "    Hydropower, Environment, Irrigation = tuple(ZambeziProblem.evaluate(np.array(input)))\n",
    "    return Hydropower, Environment, Irrigation\n"
   ]
  },
  {
   "cell_type": "code",
   "execution_count": null,
   "metadata": {},
   "outputs": [],
   "source": [
    "from ema_workbench import (RealParameter, ScalarOutcome, Constant,\n",
    "                           Model)\n",
    "\n",
    "model = Model('zambeziproblem', function=model_wrapper)\n",
    "\n",
    "model.levers = [RealParameter('v' + str(i), -1, 1) for i in range(ZambeziProblem.Nvar)]\n",
    "\n",
    "#specify outcomes\n",
    "model.outcomes = [ScalarOutcome('Hydropower', ScalarOutcome.MINIMIZE),\n",
    "                  ScalarOutcome('Environment', ScalarOutcome.MINIMIZE),\n",
    "                  ScalarOutcome('Irrigation', ScalarOutcome.MINIMIZE)]"
   ]
  },
  {
   "cell_type": "code",
   "execution_count": null,
   "metadata": {},
   "outputs": [],
   "source": [
    "from ema_workbench import MultiprocessingEvaluator, SequentialEvaluator, IpyparallelEvaluator, ema_logging\n",
    "from ema_workbench.em_framework.ema_ipyparallel import (start_logwatcher, set_engine_logger,\n",
    "                                  initialize_engines, cleanup, _run_experiment)\n",
    "from ipyparallel import Client\n",
    "\n",
    "rc = Client()\n",
    "\n",
    "ema_logging.log_to_stderr(ema_logging.INFO)\n",
    "\n",
    "with IpyparallelEvaluator(model, client=rc) as evaluator:\n",
    "    results = evaluator.optimize(nfe=100, searchover='levers',\n",
    "    epsilons=[0.1,]*len(model.outcomes))"
   ]
  }
 ],
 "metadata": {
  "interpreter": {
   "hash": "aee8b7b246df8f9039afb4144a1f6fd8d2ca17a180786b69acc140d282b71a49"
  },
  "kernelspec": {
   "display_name": "Python 3.9.7 64-bit",
   "name": "python3"
  },
  "language_info": {
   "codemirror_mode": {
    "name": "ipython",
    "version": 3
   },
   "file_extension": ".py",
   "mimetype": "text/x-python",
   "name": "python",
   "nbconvert_exporter": "python",
   "pygments_lexer": "ipython3",
   "version": "3.10.7"
  }
 },
 "nbformat": 4,
 "nbformat_minor": 2
}
